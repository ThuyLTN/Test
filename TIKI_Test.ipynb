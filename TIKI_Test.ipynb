{
  "nbformat": 4,
  "nbformat_minor": 0,
  "metadata": {
    "colab": {
      "name": "TIKI_Test.ipynb",
      "version": "0.3.2",
      "provenance": [],
      "collapsed_sections": [],
      "include_colab_link": true
    },
    "kernelspec": {
      "name": "python3",
      "display_name": "Python 3"
    }
  },
  "cells": [
    {
      "cell_type": "markdown",
      "metadata": {
        "id": "view-in-github",
        "colab_type": "text"
      },
      "source": [
        "<a href=\"https://colab.research.google.com/github/ThuyLTN/Test/blob/master/TIKI_Test.ipynb\" target=\"_parent\"><img src=\"https://colab.research.google.com/assets/colab-badge.svg\" alt=\"Open In Colab\"/></a>"
      ]
    },
    {
      "metadata": {
        "id": "wYbGXryszpJH",
        "colab_type": "text"
      },
      "cell_type": "markdown",
      "source": [
        "## ASSIGNMENT FOR “AI ENGINEER” POSITION\n",
        "\n",
        "\n",
        "\n",
        "Create a data set with 100 points from two mixed Gaussian distributions (each\n",
        "distribution has five two Gaussian distributions). The elements of the first mixed\n",
        "distribution have a maximum average value of 0 and a minimum average of -1\n",
        "and a variance of 1. The elements of the second mixed distribution have a dark\n",
        "mean value. multi is 1., the minimum average is 0 and the variance is 1. Draw\n",
        "decision boundary between 100 points of the first mixture distribution and 100\n",
        "points of the second mixture distribution don't need to train any machine learning\n",
        "models.\n",
        "\n",
        "Tạo ra một tập dữ liệu gồm 100 điểm từ 2 phân phối Mixure Gaussian (mỗi cái với\n",
        "5 thành phần Gaussian distribution cho 2 biến). Các thành phần của phân phối\n",
        "Mixure Gaussian thứ nhất có mean lớn nhất là 0., bé nhất là -1., và có variance=1.\n",
        "Các thành phần của phân phối Mixure Gaussian thứ hai có mean lớn nhất là 1., bé\n",
        "nhất là 0., và có variance=1. Plot các điểm dữ liệu lên mặt phẳng hai chiều, vẽ\n",
        "ranh giới Bayes (Bayes Boundary) trên mặt phẳng để phân biệt 100 điểm của\n",
        "phân phối thứ nhất với 100 điểm của phân phối thứ hai."
      ]
    },
    {
      "metadata": {
        "id": "8h2N8AcAyEw0",
        "colab_type": "code",
        "colab": {}
      },
      "cell_type": "code",
      "source": [
        "import numpy as np\n",
        "import seaborn\n",
        "import scipy\n",
        "import matplotlib.pyplot as plt"
      ],
      "execution_count": 0,
      "outputs": []
    },
    {
      "metadata": {
        "id": "iK8Old93yI9p",
        "colab_type": "code",
        "colab": {}
      },
      "cell_type": "code",
      "source": [
        "def Random_Mixed_MultiGaussian(min_mean, max_mean, variance, n_component, size = 100):\n",
        "  \n",
        "  means_x = np.random.uniform(low = min_mean, high = max_mean, size=(n_component,))\n",
        "  means_y = np.random.uniform(low = min_mean, high = max_mean, size=(n_component,))\n",
        "  \n",
        "  cov = [[variance,0],[0,variance]]\n",
        "  \n",
        "  mix_mulG = np.zeros((size,2))\n",
        "  \n",
        "  for i in range(n_component):\n",
        "    mix_mulG[i*20:i*20+20,:] = np.random.multivariate_normal([means_x[i], means_y[i]], cov, 20)\n",
        "    \n",
        "  return mix_mulG, means_x, means_y"
      ],
      "execution_count": 0,
      "outputs": []
    },
    {
      "metadata": {
        "id": "2koCuvG2zfR-",
        "colab_type": "text"
      },
      "cell_type": "markdown",
      "source": [
        "Hàm tính Bayes boundary"
      ]
    },
    {
      "metadata": {
        "id": "1f58L-4WyRLP",
        "colab_type": "code",
        "colab": {}
      },
      "cell_type": "code",
      "source": [
        "def f(x,mean_1, mean_2):\n",
        "  vt = mean_1[0]**2 + mean_1[1]**2 - mean_2[0]**2 - mean_2[1]**2\n",
        "  vt = vt/2\n",
        "  f = (vt - (mean_1[0]-mean_2[0])*x)/(mean_1[1]-mean_2[1])\n",
        "  return f"
      ],
      "execution_count": 0,
      "outputs": []
    },
    {
      "metadata": {
        "id": "N2WHA62hzJ43",
        "colab_type": "text"
      },
      "cell_type": "markdown",
      "source": [
        "Gọi hàm random tạo bộ dữ liệu từ 2 bộ Mixed Gaussian 2 biến"
      ]
    },
    {
      "metadata": {
        "id": "2uSSItJDyMG-",
        "colab_type": "code",
        "colab": {}
      },
      "cell_type": "code",
      "source": [
        "mixedG_1, means_x1, means_y1 = Random_Mixed_MultiGaussian(-1, 0, 1, 5)\n",
        "mixedG_2, means_x2, means_y2 = Random_Mixed_MultiGaussian(0, 1, 1, 5)"
      ],
      "execution_count": 0,
      "outputs": []
    },
    {
      "metadata": {
        "id": "8tlTa_fWyOSC",
        "colab_type": "code",
        "colab": {}
      },
      "cell_type": "code",
      "source": [
        "x = np.random.uniform(low = mixedG_1.min(), high = mixedG_2.max(), size = (100,))\n",
        "me_1 = mixedG_1.mean(axis=0)\n",
        "me_2 = mixedG_2.mean(axis=0)"
      ],
      "execution_count": 0,
      "outputs": []
    },
    {
      "metadata": {
        "id": "Ke8SPr36yjUu",
        "colab_type": "code",
        "colab": {
          "base_uri": "https://localhost:8080/",
          "height": 364
        },
        "outputId": "8a224544-d322-412c-b18d-3ba30faf1147"
      },
      "cell_type": "code",
      "source": [
        "m = mixedG_1.T\n",
        "m2 = mixedG_2.T\n",
        "plt.scatter(m[0],m[1])\n",
        "plt.scatter(m2[0],m2[1])\n",
        "plt.plot(x, f(x,me_1, me_2))"
      ],
      "execution_count": 14,
      "outputs": [
        {
          "output_type": "execute_result",
          "data": {
            "text/plain": [
              "[<matplotlib.lines.Line2D at 0x7f8c3f055f28>]"
            ]
          },
          "metadata": {
            "tags": []
          },
          "execution_count": 14
        },
        {
          "output_type": "display_data",
          "data": {
            "image/png": "[encoded data removed]",
            "text/plain": [
              "<Figure size 576x396 with 1 Axes>"
            ]
          },
          "metadata": {
            "tags": []
          }
        }
      ]
    },
    {
      "metadata": {
        "id": "9DrSBGQBy27a",
        "colab_type": "code",
        "colab": {}
      },
      "cell_type": "code",
      "source": [
        ""
      ],
      "execution_count": 0,
      "outputs": []
    }
  ]
}